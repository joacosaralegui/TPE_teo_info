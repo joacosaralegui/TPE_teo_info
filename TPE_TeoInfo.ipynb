{
 "cells": [
  {
   "cell_type": "markdown",
   "metadata": {
    "colab_type": "text",
    "id": "hpSo4yuDDzfR"
   },
   "source": [
    "**CONSIGNA**\n",
    "1. Dada la foto Will(Original).bmp que llevó Joyce a la estación de policía y la lista de fotos obtenidas por el sistema de búsqueda, implementar un algoritmo que permita ordenar la lista según su parecido con la foto de Will que entregó Joyce, utilizando el factor de correlación como medida de similitud. Analizar los resultados obtenidos.\n"
   ]
  },
  {
   "cell_type": "markdown",
   "metadata": {
    "colab_type": "text",
    "id": "PQ7aiiPOj_kl"
   },
   "source": [
    "En el siguiente fragmeto se cargan las imagenes de Will (original y a comparar)"
   ]
  },
  {
   "cell_type": "code",
   "execution_count": null,
   "metadata": {
    "colab": {
     "base_uri": "https://localhost:8080/",
     "height": 244,
     "resources": {
      "http://localhost:8080/nbextensions/google.colab/files.js": {
       "data": "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",
       "headers": [
        [
         "content-type",
         "application/javascript"
        ]
       ],
       "ok": true,
       "status": 200,
       "status_text": ""
      }
     }
    },
    "colab_type": "code",
    "id": "FkhqrMtYDyyW",
    "outputId": "f1aabe4a-0892-4869-bf09-f62dcbcd4495",
    "scrolled": true
   },
   "outputs": [],
   "source": [
    "import os\n",
    "filenames = os.listdir(\"img\")\n",
    "filenames.sort()\n",
    "print(filenames)"
   ]
  },
  {
   "cell_type": "code",
   "execution_count": null,
   "metadata": {
    "colab": {},
    "colab_type": "code",
    "id": "NIQdFR8Zk2Dx"
   },
   "outputs": [],
   "source": [
    "import math\n",
    "\n",
    "def media(imagen, cuadrada=False):\n",
    "    largo = len(imagen)\n",
    "    ancho = len(imagen[0])\n",
    "    suma = 0\n",
    "\n",
    "    for x in range(largo):\n",
    "        for y in range(ancho):\n",
    "            if cuadrada:\n",
    "                suma += int(imagen[x][y]) * int(imagen[x][y])\n",
    "            else:\n",
    "                suma += int(imagen[x][y])\n",
    "\n",
    "    return float(suma)/(largo*ancho)"
   ]
  },
  {
   "cell_type": "code",
   "execution_count": null,
   "metadata": {
    "colab": {},
    "colab_type": "code",
    "id": "51e3V4aCk1xL"
   },
   "outputs": [],
   "source": [
    "def desvio(imagen, media_imagen):\n",
    "    \"\"\"\n",
    "    desvio = sqrt(<x2> - <x>2)\n",
    "    \"\"\"\n",
    "    media_cuadrada_imagen = media(imagen,True)\n",
    "    varianza = media_cuadrada_imagen - (media_imagen*media_imagen)\n",
    "    desvio = math.sqrt(varianza)\n",
    "    return desvio"
   ]
  },
  {
   "cell_type": "code",
   "execution_count": null,
   "metadata": {
    "colab": {},
    "colab_type": "code",
    "id": "ZT45k8lOk1et"
   },
   "outputs": [],
   "source": [
    "def correlacion_cruzada(imagen_a,imagen_b):\n",
    "    if(len(imagen_a)!= len(imagen_b) or len(imagen_a[0]) != len(imagen_b[0])):\n",
    "        return\n",
    "\n",
    "    suma_ambos = 0\n",
    "    largo = len(imagen_a)\n",
    "    ancho = len(imagen_a[0])\n",
    "    for x in range(largo):\n",
    "        for y in range(ancho):\n",
    "            suma_ambos += int(imagen_a[x][y]) * int(imagen_b[x][y])\n",
    "\n",
    "    return  float(suma_ambos)/(largo*ancho)"
   ]
  },
  {
   "cell_type": "code",
   "execution_count": null,
   "metadata": {
    "colab": {},
    "colab_type": "code",
    "id": "4WNqV32-k1Mt"
   },
   "outputs": [],
   "source": [
    "def factor_correlacion_cruzada(imagen_a,imagen_b):\n",
    "    media_a = media(imagen_a)\n",
    "    media_b = media(imagen_b)\n",
    "    desvio_a = desvio(imagen_a, media_a)\n",
    "    desvio_b = desvio(imagen_b, media_b)\n",
    "    correlacion_cruzada_ambas = correlacion_cruzada(imagen_a,imagen_b)\n",
    "\n",
    "    return round((float(correlacion_cruzada_ambas - (media_a*media_b))) / (desvio_a*desvio_b) , 5)"
   ]
  },
  {
   "cell_type": "code",
   "execution_count": null,
   "metadata": {
    "colab": {},
    "colab_type": "code",
    "id": "fAzcoKgvGHQG"
   },
   "outputs": [],
   "source": [
    "import os\n",
    "import imageio\n",
    "\n",
    "will_original = imageio.imread(os.path.join(\"img\",filenames[0]))\n",
    "will_fotos_busqueda = []\n",
    "for i in range(1,6):\n",
    "  #En la segunda posicion se guarda el factor de correlacion cruzada para posteriormente ordenarlo\n",
    "  will_fotos_busqueda.append( imageio.imread(os.path.join(\"img\",filenames[i])))  \n",
    "\n",
    "will_policia = imageio.imread(os.path.join(\"img\",filenames[-1]))"
   ]
  },
  {
   "cell_type": "code",
   "execution_count": null,
   "metadata": {
    "colab": {},
    "colab_type": "code",
    "id": "_hC_2ScLPPqW"
   },
   "outputs": [],
   "source": [
    "import numpy as np\n",
    "\n",
    "resultados = []\n",
    "i = 1\n",
    "for imagen in will_fotos_busqueda:\n",
    "    print(\"Procesado imagen \" + str(i) + \" ...\")\n",
    "    corr = factor_correlacion_cruzada(will_original,imagen)\n",
    "    resultados.append((\"Imagen \" + str(i), corr,imagen))\n",
    "    i += 1\n"
   ]
  },
  {
   "cell_type": "code",
   "execution_count": null,
   "metadata": {
    "colab": {},
    "colab_type": "code",
    "id": "5wTeo7u2rqpB"
   },
   "outputs": [],
   "source": [
    "# ordenar los resultados\n",
    "resultados.sort(key=lambda x: x[1], reverse=True)\n",
    "for r in resultados:\n",
    "    print(r[0])"
   ]
  },
  {
   "cell_type": "code",
   "execution_count": null,
   "metadata": {
    "colab": {
     "base_uri": "https://localhost:8080/",
     "height": 286
    },
    "colab_type": "code",
    "id": "YGYHiCguI2v2",
    "outputId": "d07a9f8f-6cf2-4bc8-a39d-d5666129aec6"
   },
   "outputs": [],
   "source": [
    "%pylab inline\n",
    "import matplotlib.pyplot as plt\n",
    "imgplot = plt.imshow(will_original,cmap='gray',vmin=0,vmax=255)\n",
    "plt.show()"
   ]
  },
  {
   "cell_type": "markdown",
   "metadata": {},
   "source": [
    "2- Un policía amigo de Joyce llegó a la estación de policía un rato más tarde, trayendo consigo otra foto para analizarla. El policía de guardia, para ahorrarse la búsqueda en el SIDPE, propuso estudiar las similitudes respecto a la imagen que llevó Joyce mediante esta estrategia a implementar: Obtener la distribución de intensidades de la imagen de la foto que llevó Joyce, de la foto del niño más parecido (obtenida por el sistema de búsqueda) y de la foto que tenía el policía en su billetera. Generar el histograma de cada imagen y calcular la media y el desvío de cada distribución. Analizar las similitudes y diferencias entre uno y otro indicador."
   ]
  },
  {
   "cell_type": "code",
   "execution_count": null,
   "metadata": {},
   "outputs": [],
   "source": [
    "def distribucion_intensidad(imagen):\n",
    "    #posible mejora, en ves de usar un arreglo usar otra estructura\n",
    "    #como un mapa o algo asi porque hay muchos valores de intesidad \n",
    "    #que no se usan\n",
    "    dist = {} #esto nose si se hace asi -> joya\n",
    "    largo = len(imagen)\n",
    "    ancho = len(imagen[0])\n",
    "    for x in range(largo):\n",
    "        for y in range(ancho):\n",
    "            valor = (int)(imagen[x][y])\n",
    "            if valor in dist:\n",
    "                dist[valor] += 1\n",
    "            else:\n",
    "                dist[valor] = 1\n",
    "    for key in dist:\n",
    "        dist[key]=(float)(dist[key]/(largo*ancho))\n",
    "    return dist\n",
    "\n",
    "\n",
    "distribucion_original = distribucion_intensidad(will_original)\n",
    "distribucion_parecida = distribucion_intensidad(will_fotos_busqueda[0])\n",
    "distribucion_policia = distribucion_intensidad(will_policia)"
   ]
  },
  {
   "cell_type": "code",
   "execution_count": null,
   "metadata": {},
   "outputs": [],
   "source": [
    "import matplotlib.pyplot as plt\n",
    "\n",
    "plt.rcParams['figure.figsize'] = (13,6)\n",
    "\n",
    "# Funcion para poner el label arriba de cada barrita\n",
    "def autolabel(rects,ejes):\n",
    "    \"\"\"Attach a text label above each bar in *rects*, displaying its height.\"\"\"\n",
    "    for rect in rects:\n",
    "        height = round((float)(rect.get_height()),4)\n",
    "        ejes.annotate('{}'.format(height),\n",
    "                    xy=(rect.get_x() + rect.get_width() / 2, height),\n",
    "                    xytext=(0, 3),  # 3 points vertical offset\n",
    "                    textcoords=\"offset points\",\n",
    "                    ha='center', va='bottom',fontsize=10)\n",
    "\n",
    "# funcion para generar histograma a partir de una distribucion\n",
    "def generar_histograma(distribucion):\n",
    "    valores = list(distribucion.values())\n",
    "    intensidades = list(distribucion.keys())\n",
    "\n",
    "    # configuracion del plotting\n",
    "    figura = plt.figure()\n",
    "    ejes = figura.add_axes([0,0,1,1])\n",
    "    histograma = ejes.bar(intensidades,valores,width=14)\n",
    "    plt.xticks(intensidades,intensidades)\n",
    "\n",
    "    # titulos y labels\n",
    "    ejes.set_title('Distribucion de intensidades')\n",
    "    ejes.set_xlabel('Intesidad (0 a 255)')\n",
    "    ejes.set_ylabel('Probabilidad')\n",
    "    \n",
    "    # escalas \n",
    "    plt.ylim(0, 0.55) #lo seteo entre 0 y 0.55 porque conozco entre que valores se mueven los histogramas\n",
    "    plt.autoscale(False)\n",
    "\n",
    "    # generar autolabels\n",
    "    autolabel(histograma,ejes)\n",
    "\n",
    "    # Mostrar el grafico\n",
    "    plt.show()\n",
    "\n",
    "generar_histograma(distribucion_original)\n",
    "generar_histograma(distribucion_parecida)\n",
    "generar_histograma(distribucion_policia)\n"
   ]
  },
  {
   "cell_type": "code",
   "execution_count": null,
   "metadata": {},
   "outputs": [],
   "source": [
    "import matplotlib\n",
    "import matplotlib.pyplot as plt\n",
    "import numpy as np\n",
    "from collections import OrderedDict\n",
    "\n",
    "def autolabel(rects,ax):\n",
    "    for rect in rects:\n",
    "      height = round((float)(rect.get_height()),4)\n",
    "      ax.annotate('{}'.format(height),\n",
    "                  xy=(rect.get_x() + rect.get_width() / 2, height),\n",
    "                  xytext=(0, 3),  # 3 points vertical offset\n",
    "                  textcoords=\"offset points\",\n",
    "                  ha='center', va='bottom',fontsize=10,rotation=90)\n",
    "        \n",
    "def histogram_multiple(distribucion1,label1,distribucion2,label2,distribucion3,label3):\n",
    "    \n",
    "    #ordenamos los diccionarios por clave (intensidades)\n",
    "    d1 = OrderedDict(sorted(distribucion1.items()))\n",
    "    d2 = OrderedDict(sorted(distribucion2.items()))\n",
    "    d3 = OrderedDict(sorted(distribucion3.items()))\n",
    "    b = OrderedDict(sorted(distribucion_original.items()))\n",
    "\n",
    "    #obtenemos las intensidades a partir de cualquier diccionario\n",
    "    intensidades = list(d1.keys())\n",
    "    \n",
    "    #obtenemos los valores\n",
    "    d1_valores = list(d1.values())\n",
    "    d2_valores = list(d2.values())\n",
    "    d3_valores = list(d3.values())\n",
    "\n",
    "\n",
    "    ind = np.arange(len(intensidades))  # the x locations for the groups\n",
    "    width = 0.525  # the width of the bars\n",
    "\n",
    "    fig, ax = plt.subplots()\n",
    "    rects1 = ax.bar((ind - width/2)*2, d1_valores, width,\n",
    "                    label=label1)\n",
    "    rects2 = ax.bar((ind)*2, d2_valores, width,\n",
    "                    label=label2)\n",
    "    rects3 = ax.bar((ind + width/2)*2, d3_valores, width,\n",
    "                    label=label3)\n",
    "    # escalas \n",
    "    plt.ylim(0, 0.55) #lo seteo entre 0 y 0.55 porque conozco entre que valores se mueven los histogramas\n",
    "\n",
    "    # Add some text for labels, title and custom x-axis tick labels, etc.\n",
    "    ax.set_ylabel('Probabilidad')\n",
    "    ax.set_title('Distribución de intensidades')\n",
    "    ax.set_xticks(ind*2)\n",
    "    ax.set_xticklabels(intensidades)\n",
    "    ax.legend()\n",
    "    \n",
    "    autolabel(rects1,ax)\n",
    "    autolabel(rects2,ax)\n",
    "    autolabel(rects3,ax)\n",
    "\n",
    "    fig.tight_layout()\n",
    "\n",
    "    plt.show()\n",
    "    \n",
    "histogram_multiple(distribucion_original,'original',distribucion_parecida,'parecida',distribucion_policia,'policia')"
   ]
  },
  {
   "cell_type": "code",
   "execution_count": null,
   "metadata": {},
   "outputs": [],
   "source": [
    "import math\n",
    "\n",
    "def media_dist(dist, cuadrada=False):\n",
    "    suma = 0.0\n",
    "    for x in dist:\n",
    "        if(cuadrada):\n",
    "            suma += x*x*dist[x]\n",
    "        else:\n",
    "            suma += x*dist[x]\n",
    "    return float(suma)\n",
    "\n",
    "def desvio_dist(dist, media_distribucion):\n",
    "    media_cuadrada_dist = media_dist(dist,True)\n",
    "    varianza = media_cuadrada_dist - (media_distribucion*media_distribucion)\n",
    "    return math.sqrt(varianza)\n",
    "\n",
    "distribuciones = [(distribucion_original,\"Dist original\"), (distribucion_parecida,\"Dist parecida\"), (distribucion_policia,\"Dist policia\")]\n",
    "for dist, nombre in distribuciones:\n",
    "    media_distribucion = media_dist(dist)\n",
    "    desvio_distribucion = desvio_dist(dist, media_distribucion)\n",
    "    print(nombre)\n",
    "    print(media_distribucion)\n",
    "    print(desvio_distribucion)\n",
    "    print(\"************\")\n",
    "    "
   ]
  },
  {
   "cell_type": "markdown",
   "metadata": {},
   "source": [
    "3. Implementar un algoritmo que permita codificar una imagen mediante el método de Huffman y posteriormente reconstruirla mediante otro algoritmo decodificador (el archivo comprimido deberá contener la secuencia de bits codificados junto con los datos necesarios para la reconstrucción de la imagen original). Con dicho algoritmo codificador:\n",
    "    - a) Comprimir con Huffman semi-estático la imagen original.\n",
    "    - b) Comprimir la imagen del resultado más parecido con el código de Huffman asociado a la imagen original.\n",
    "    - c) Comprimir la imagen que trajo el policía con el código de Huffman asociado a la imagen original.\n",
    "    - d) Comprimir la imagen que trajo el policía utilizando Huffman semi-estático, esta vez utilizando el código generado para  la propia imagen. Comparar con el resultado del inciso anterior.\n",
    "    - e) Comparar las tasas de compresión obtenidas por las compresiones en los ejercicios (a), (b), (c) y (d).\n",
    "Nota: el algoritmo decodificador deberá permitir reconstruir los datos generados por el codificador y obtener la imagen original."
   ]
  },
  {
   "cell_type": "code",
   "execution_count": null,
   "metadata": {},
   "outputs": [],
   "source": [
    "class Tree:\n",
    "    simbolo = None\n",
    "    prob = None\n",
    "    left = None\n",
    "    right = None\n",
    "    def __init__(self,simbolo=None, prob=None, left=None, right=None):\n",
    "      self.simbolo = simbolo\n",
    "      self.prob = prob\n",
    "      self.left = left\n",
    "      self.right = right\n",
    "\n",
    "    def is_leaf(self):\n",
    "      return (self.left is None and self.right is None) \n",
    "\n",
    "    #def get_leaves(self):\n",
    "    #  return self.__leaves(self)\n",
    "\n",
    "    def get_leaves(self):\n",
    "      if self.is_leaf():\n",
    "        return [self]\n",
    "      else:\n",
    "        aux = []\n",
    "        if self.left is not None:\n",
    "          aux += self.left.get_leaves()\n",
    "        if self.right is not None:\n",
    "          aux += self.right.get_leaves()\n",
    "        return aux\n",
    "\n",
    "    def __repr__(self):\n",
    "      return \"<%s,%s>\" % (self.simbolo, self.prob)\n",
    "\n",
    "    def __str__(self):\n",
    "      return \"<%s,%s>\" % (self.simbolo, self.prob)"
   ]
  },
  {
   "cell_type": "code",
   "execution_count": null,
   "metadata": {},
   "outputs": [],
   "source": [
    "def get_mas_chicos(arr):\n",
    "  nodo1 = arr[0] # el valor mas chico\n",
    "  nodo2 = arr[1] # el segundo mas chico\n",
    "  i = 2\n",
    "  while i < len(arr):\n",
    "    if arr[i].prob < nodo1.prob :\n",
    "      nodo2 = nodo1\n",
    "      nodo1 = arr[i]\n",
    "    elif arr[i].prob < nodo2.prob :\n",
    "      nodo2 = arr[i]\n",
    "    i += 1\n",
    "  return nodo1,nodo2\n",
    "\n",
    "#Actualiza los codigos de los nodos que fusiono\n",
    "def actualizar_codigos(codigos,nodo1,nodo2):\n",
    "  for hoja in nodo1.get_leaves() :\n",
    "    codigos[hoja.simbolo] = '0' + codigos[hoja.simbolo]\n",
    "  for hoja in nodo2.get_leaves() :\n",
    "    codigos[hoja.simbolo] = '1' +codigos[hoja.simbolo]\n",
    "\n",
    "#Fusiona los dos nodos de menor prob y los elimina de los nodos\n",
    "def fusionar_nodos(nodos,nodo1,nodo2):\n",
    "  nodos.remove(nodo1)\n",
    "  nodos.remove(nodo2)\n",
    "  grupo = Tree(\"grupito\",nodo1.prob+nodo2.prob,nodo2,nodo1)\n",
    "  nodo1.parent = grupo\n",
    "  nodo2.parent = grupo\n",
    "  return grupo\n",
    "\n",
    "#Genera el codigo de huffman y su arbol correspondiente\n",
    "def generar_codigo_huffman(dist):\n",
    "  nodos = []\n",
    "  codigos = {}\n",
    "  for key in dist:\n",
    "    nodos.append(Tree(key,dist[key]))\n",
    "    codigos[key] = \"\"\n",
    "  while len(nodos) != 1:\n",
    "    nodo1, nodo2 = get_mas_chicos(nodos)\n",
    "    grupo = fusionar_nodos(nodos,nodo1,nodo2)\n",
    "    actualizar_codigos(codigos,nodo1,nodo2)\n",
    "    nodos.append(grupo)\n",
    "  return codigos,nodos[0]"
   ]
  },
  {
   "cell_type": "code",
   "execution_count": null,
   "metadata": {},
   "outputs": [],
   "source": [
    "codigos_will_original,arbol_will_original=generar_codigo_huffman(distribucion_original)"
   ]
  },
  {
   "cell_type": "code",
   "execution_count": null,
   "metadata": {},
   "outputs": [],
   "source": [
    "def guardar_bits_a_archivo(lista_de_bits, nombre_archivo):\n",
    "    # vamos a ir armando una lista de bytes (que vamos a representar con chars, ya\n",
    "    # que este tipo de dato tiene 8 bits)\n",
    "    lista_de_bytes = []\n",
    "\n",
    "    # cada 8 bits, tengo que armar un char\n",
    "    for i in range(0, len(lista_de_bits), 8):\n",
    "        # me quedo con 8 caracteres de la lista de bits\n",
    "        ocho_bits = lista_de_bits[i:i+8]\n",
    "        # necesito primero convertirlo a entero (4 bytes!) y después a chr (8 bits)\n",
    "        byte = chr(int(''.join([str(bit) for bit in ocho_bits]), 2))\n",
    "        # lo pongo en mi lista de bytes\n",
    "        lista_de_bytes.append(byte)\n",
    "\n",
    "    # imprimo mi representacion en chars\n",
    "    print(lista_de_bytes)\n",
    "    # la convierto en un único string\n",
    "    data_en_un_unico_string = ''.join(lista_de_bytes)\n",
    "\n",
    "    # y los escribo en mi archivo como datos en bytes\n",
    "    with open(nombre_archivo, 'w') as f:\n",
    "        f.write(data_en_un_unico_string)\n",
    "        return True\n",
    "    return False"
   ]
  },
  {
   "cell_type": "code",
   "execution_count": null,
   "metadata": {},
   "outputs": [],
   "source": [
    "def leer_bits_de_archivo(nombre_archivo):\n",
    "    # inicializo la lista de bytes\n",
    "    lista_de_bytes = []\n",
    "\n",
    "    # ahora leo el archivo, poniendo cada byte que leo en la lista\n",
    "    with open(nombre_archivo, 'rb') as f:\n",
    "        while True:\n",
    "            byte = f.read(1)\n",
    "            if byte:\n",
    "                lista_de_bytes.append(byte)\n",
    "            else:\n",
    "                break\n",
    "\n",
    "    # recorro la lista de bytes y voy convirtiendo el char a binario\n",
    "    result = []\n",
    "    for byte in lista_de_bytes:\n",
    "        bits = bin(ord(byte))[2:]\n",
    "        bits = '00000000'[len(bits):] + bits\n",
    "        result.extend([int(b) for b in bits])\n",
    "\n",
    "    print(result)\n",
    "    return result"
   ]
  },
  {
   "cell_type": "code",
   "execution_count": null,
   "metadata": {},
   "outputs": [],
   "source": [
    "print(codigos_will_original)\n",
    "\n",
    "def generar_codigo(imagen,codigo):\n",
    "    codificacion = []\n",
    "    for i in range(len(imagen)):\n",
    "        for j in range(len(imagen[i])):\n",
    "            for c in codigo[imagen[i][j]]:\n",
    "                codificacion.append(c)\n",
    "    return codificacion\n",
    "\n",
    "codificacion_original = generar_codigo(will_original, codigos_will_original)\n",
    "print(codificacion_original)"
   ]
  },
  {
   "cell_type": "code",
   "execution_count": null,
   "metadata": {},
   "outputs": [],
   "source": [
    "guardar_bits_a_archivo(codificacion_original, \"original.teoinfo\")"
   ]
  },
  {
   "cell_type": "code",
   "execution_count": null,
   "metadata": {},
   "outputs": [],
   "source": [
    "bits = leer_bits_de_archivo(\"original.teoinfo\")"
   ]
  },
  {
   "cell_type": "code",
   "execution_count": null,
   "metadata": {},
   "outputs": [],
   "source": [
    "bits_extra = 0\n",
    "\n",
    "aux = arbol\n",
    "  retorno = []\n",
    "  i = 0\n",
    "  while i != len(arr):\n",
    "    if(arr[i]=='1'):\n",
    "      aux = aux.left\n",
    "    else:\n",
    "      aux = aux.right\n",
    "    if(aux.is_leaf()):\n",
    "      retorno.append(aux.simbolo)\n",
    "      aux = arbol\n",
    "    i += 1\n",
    "  return retorno\n",
    "\n",
    "def decodificar_valores(raiz, datos, ancho):\n",
    "    imagen = [[]]\n",
    "    arbol = raiz\n",
    "    index = 0\n",
    "    while index != len(datos):\n",
    "        if(arr[i]=='1'):\n",
    "          arbol = aux.left\n",
    "        else:\n",
    "          arbol = aux.right\n",
    "        if(aux.is_leaf()):\n",
    "          imagen[i/ancho].append(arbol.simbolo)\n",
    "          aux = arbol\n",
    "        i += 1\n",
    "    return imagen\n",
    "\n",
    "imagen = decodificar_valores(arbol_will_original, bits, len(will_original[0]))"
   ]
  },
  {
   "cell_type": "code",
   "execution_count": null,
   "metadata": {},
   "outputs": [],
   "source": [
    "print(type(will_original))\n",
    "import numpy as np\n",
    "imagen_np = np.asarray(imagen)\n",
    "\n",
    "print(len(imagen))\n",
    "print(len(imagen[0]))\n",
    "print(len(will_original))\n",
    "print(len(will_original[0]))\n",
    "\n",
    "print(imagen[0])\n"
   ]
  }
 ],
 "metadata": {
  "colab": {
   "collapsed_sections": [],
   "name": "TPE-TeoInfo.ipynb",
   "provenance": []
  },
  "kernelspec": {
   "display_name": "Python 3",
   "language": "python",
   "name": "python3"
  },
  "language_info": {
   "codemirror_mode": {
    "name": "ipython",
    "version": 3
   },
   "file_extension": ".py",
   "mimetype": "text/x-python",
   "name": "python",
   "nbconvert_exporter": "python",
   "pygments_lexer": "ipython3",
   "version": "3.8.3"
  }
 },
 "nbformat": 4,
 "nbformat_minor": 1
}
