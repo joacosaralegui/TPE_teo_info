{
 "cells": [
  {
   "cell_type": "markdown",
   "metadata": {
    "colab_type": "text",
    "id": "hpSo4yuDDzfR"
   },
   "source": [
    "**CONSIGNA**\n",
    "1. Dada la foto Will(Original).bmp que llevó Joyce a la estación de policía y la lista de fotos obtenidas por el sistema de búsqueda, implementar un algoritmo que permita ordenar la lista según su parecido con la foto de Will que entregó Joyce, utilizando el factor de correlación como medida de similitud. Analizar los resultados obtenidos.\n"
   ]
  },
  {
   "cell_type": "markdown",
   "metadata": {
    "colab_type": "text",
    "id": "PQ7aiiPOj_kl"
   },
   "source": [
    "En el siguiente fragmeto se cargan las imagenes de Will (original y a comparar)"
   ]
  },
  {
   "cell_type": "code",
   "execution_count": 1,
   "metadata": {
    "colab": {
     "base_uri": "https://localhost:8080/",
     "height": 244,
     "resources": {
      "http://localhost:8080/nbextensions/google.colab/files.js": {
       "data": "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",
       "headers": [
        [
         "content-type",
         "application/javascript"
        ]
       ],
       "ok": true,
       "status": 200,
       "status_text": ""
      }
     }
    },
    "colab_type": "code",
    "id": "FkhqrMtYDyyW",
    "outputId": "f1aabe4a-0892-4869-bf09-f62dcbcd4495"
   },
   "outputs": [
    {
     "name": "stdout",
     "output_type": "stream",
     "text": [
      "['Will(Original).bmp', 'Will_1.bmp', 'Will_2.bmp', 'Will_3.bmp', 'Will_4.bmp', 'Will_5.bmp', 'Will_Canal10.bmp', 'Will_Canal2.bmp', 'Will_Canal8.bmp', 'Will_ej2.bmp']\n"
     ]
    }
   ],
   "source": [
    "import os\n",
    "filenames = os.listdir(\"img\")\n",
    "filenames.sort()\n",
    "print(filenames)"
   ]
  },
  {
   "cell_type": "code",
   "execution_count": 2,
   "metadata": {
    "colab": {},
    "colab_type": "code",
    "id": "NIQdFR8Zk2Dx"
   },
   "outputs": [],
   "source": [
    "import math\n",
    "\n",
    "def media(imagen, cuadrada=False):\n",
    "    largo = len(imagen)\n",
    "    ancho = len(imagen[0])\n",
    "    suma = 0\n",
    "\n",
    "    for x in range(largo):\n",
    "        for y in range(ancho):\n",
    "            if cuadrada:\n",
    "                suma += int(imagen[x][y]) * int(imagen[x][y])\n",
    "            else:\n",
    "                suma += int(imagen[x][y])\n",
    "\n",
    "    return float(suma)/(largo*ancho)"
   ]
  },
  {
   "cell_type": "code",
   "execution_count": 3,
   "metadata": {
    "colab": {},
    "colab_type": "code",
    "id": "51e3V4aCk1xL"
   },
   "outputs": [],
   "source": [
    "def desvio(imagen, media_imagen):\n",
    "    \"\"\"\n",
    "    desvio = sqrt(<x2> - <x>2)\n",
    "    \"\"\"\n",
    "    media_cuadrada_imagen = media(imagen,True)\n",
    "    varianza = media_cuadrada_imagen - (media_imagen*media_imagen)\n",
    "    desvio = math.sqrt(varianza)\n",
    "    return desvio"
   ]
  },
  {
   "cell_type": "code",
   "execution_count": 4,
   "metadata": {
    "colab": {},
    "colab_type": "code",
    "id": "ZT45k8lOk1et"
   },
   "outputs": [],
   "source": [
    "def correlacion_cruzada(imagen_a,imagen_b):\n",
    "    if(len(imagen_a)!= len(imagen_b) or len(imagen_a[0]) != len(imagen_b[0])):\n",
    "        return\n",
    "\n",
    "    suma_ambos = 0\n",
    "    largo = len(imagen_a)\n",
    "    ancho = len(imagen_a[0])\n",
    "    for x in range(largo):\n",
    "        for y in range(ancho):\n",
    "            suma_ambos += int(imagen_a[x][y]) * int(imagen_b[x][y])\n",
    "\n",
    "    return  float(suma_ambos)/(largo*ancho)"
   ]
  },
  {
   "cell_type": "code",
   "execution_count": 5,
   "metadata": {
    "colab": {},
    "colab_type": "code",
    "id": "4WNqV32-k1Mt"
   },
   "outputs": [],
   "source": [
    "def factor_correlacion_cruzada(imagen_a,imagen_b):\n",
    "    media_a = media(imagen_a)\n",
    "    media_b = media(imagen_b)\n",
    "    desvio_a = desvio(imagen_a, media_a)\n",
    "    desvio_b = desvio(imagen_b, media_b)\n",
    "    correlacion_cruzada_ambas = correlacion_cruzada(imagen_a,imagen_b)\n",
    "\n",
    "    return round((float(correlacion_cruzada_ambas - (media_a*media_b))) / (desvio_a*desvio_b) , 5)"
   ]
  },
  {
   "cell_type": "code",
   "execution_count": 6,
   "metadata": {
    "colab": {},
    "colab_type": "code",
    "id": "fAzcoKgvGHQG"
   },
   "outputs": [],
   "source": [
    "import os\n",
    "import imageio\n",
    "\n",
    "will_original = imageio.imread(os.path.join(\"img\",filenames[0]))\n",
    "will_fotos_busqueda = []\n",
    "for i in range(1,6):\n",
    "  #En la segunda posicion se guarda el factor de correlacion cruzada para posteriormente ordenarlo\n",
    "  will_fotos_busqueda.append( imageio.imread(os.path.join(\"img\",filenames[i])))  \n",
    "\n"
   ]
  },
  {
   "cell_type": "code",
   "execution_count": 7,
   "metadata": {
    "colab": {},
    "colab_type": "code",
    "id": "_hC_2ScLPPqW"
   },
   "outputs": [
    {
     "name": "stdout",
     "output_type": "stream",
     "text": [
      "Procesado imagen 1 ...\n",
      "Procesado imagen 2 ...\n",
      "Procesado imagen 3 ...\n",
      "Procesado imagen 4 ...\n",
      "Procesado imagen 5 ...\n"
     ]
    }
   ],
   "source": [
    "import numpy as np\n",
    "\n",
    "resultados = []\n",
    "i = 1\n",
    "for imagen in will_fotos_busqueda:\n",
    "    print(\"Procesado imagen \" + str(i) + \" ...\")\n",
    "    corr = factor_correlacion_cruzada(will_original,imagen)\n",
    "    resultados.append((\"Imagen \" + str(i), corr,imagen))\n",
    "    i += 1\n"
   ]
  },
  {
   "cell_type": "code",
   "execution_count": 10,
   "metadata": {
    "colab": {},
    "colab_type": "code",
    "id": "5wTeo7u2rqpB"
   },
   "outputs": [
    {
     "name": "stdout",
     "output_type": "stream",
     "text": [
      "Imagen 1\n",
      "Imagen 2\n",
      "Imagen 3\n",
      "Imagen 5\n",
      "Imagen 4\n"
     ]
    }
   ],
   "source": [
    "# ordenar los resultados\n",
    "resultados.sort(key=lambda x: x[1], reverse=True)\n",
    "for r in resultados:\n",
    "    print(r[0])"
   ]
  },
  {
   "cell_type": "code",
   "execution_count": null,
   "metadata": {
    "colab": {
     "base_uri": "https://localhost:8080/",
     "height": 286
    },
    "colab_type": "code",
    "id": "YGYHiCguI2v2",
    "outputId": "d07a9f8f-6cf2-4bc8-a39d-d5666129aec6"
   },
   "outputs": [],
   "source": [
    "%pylab inline\n",
    "import matplotlib.pyplot as plt\n",
    "imgplot = plt.imshow(will_original,cmap='gray',vmin=0,vmax=255)\n",
    "plt.show()"
   ]
  },
  {
   "cell_type": "markdown",
   "metadata": {},
   "source": [
    "2- Un policía amigo de Joyce llegó a la estación de policía un rato más tarde, trayendo consigo otra foto para analizarla. El policía de guardia, para ahorrarse la búsqueda en el SIDPE, propuso estudiar las similitudes respecto a la imagen que llevó Joyce mediante esta estrategia a implementar: Obtener la distribución de intensidades de la imagen de la foto que llevó Joyce, de la foto del niño más parecido (obtenida por el sistema de búsqueda) y de la foto que tenía el policía en su billetera. Generar el histograma de cada imagen y calcular la media y el desvío de cada distribución. Analizar las similitudes y diferencias entre uno y otro indicador."
   ]
  },
  {
   "cell_type": "code",
   "execution_count": 9,
   "metadata": {},
   "outputs": [],
   "source": [
    "def distribucion_intesidad(imagen):\n",
    "    #posible mejora, en ves de usar un arreglo usar otra estructura\n",
    "    #como un mapa o algo asi porque hay muchos valores de intesidad \n",
    "    #que no se usan\n",
    "    dist = {} #esto nose si se hace asi -> joya\n",
    "    largo = len(imagen)\n",
    "    ancho = len(imagen[0])\n",
    "    for x in range(largo):\n",
    "        for y in range(ancho):\n",
    "            valor = imagen[x][y]\n",
    "            if valor in dist:\n",
    "                dist[valor] += 1\n",
    "            else:\n",
    "                dist[valor] = 1\n",
    "    for key in dist:\n",
    "        dist[key]=(float)(dist[key]/(largo*ancho))\n",
    "    return dist\n",
    "\n",
    "\n",
    "distribucion_original = distribucion_intesidad(will_original)\n",
    "distribucion_parecida = distribucion_intesidad(will_fotos_busqueda[0])\n"
   ]
  },
  {
   "cell_type": "code",
   "execution_count": 12,
   "metadata": {},
   "outputs": [
    {
     "data": {
      "image/png": "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\n",
      "text/plain": [
       "<Figure size 432x288 with 1 Axes>"
      ]
     },
     "metadata": {
      "needs_background": "light"
     },
     "output_type": "display_data"
    },
    {
     "data": {
      "image/png": "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\n",
      "text/plain": [
       "<Figure size 432x288 with 1 Axes>"
      ]
     },
     "metadata": {
      "needs_background": "light"
     },
     "output_type": "display_data"
    }
   ],
   "source": [
    "import matplotlib.pyplot as plt\n",
    "\n",
    "# funcion para generar histograma a partir de una distribucion\n",
    "def generar_histograma(distribucion):\n",
    "    valores = list(distribucion.values())\n",
    "    intensidades = list(distribucion.keys())\n",
    "\n",
    "    # configuracion del plotting\n",
    "    figura = plt.figure()\n",
    "    ejes = figura.add_axes([0,0,1,1])\n",
    "    histograma = ejes.bar(intensidades,valores,width=14)\n",
    "    plt.xticks(intensidades,intensidades)\n",
    "\n",
    "    # titulos y labels\n",
    "    ejes.set_title('Distribucion de intensidades')\n",
    "    ejes.set_xlabel('Intesidad (0 a 255)')\n",
    "    ejes.set_ylabel('Probabilidad')\n",
    "\n",
    "    # Funcion para poner el label arriba de cada barrita\n",
    "    def autolabel(rects):\n",
    "        \"\"\"Attach a text label above each bar in *rects*, displaying its height.\"\"\"\n",
    "        for rect in rects:\n",
    "            height = round((float)(rect.get_height()),4)\n",
    "            ejes.annotate('{}'.format(height),\n",
    "                        xy=(rect.get_x() + rect.get_width() / 2, height),\n",
    "                        xytext=(0, 3),  # 3 points vertical offset\n",
    "                        textcoords=\"offset points\",\n",
    "                        ha='center', va='bottom',fontsize=10)\n",
    "\n",
    "    # generar autolabels\n",
    "    autolabel(histograma)\n",
    "\n",
    "    # Mostrar el grafico\n",
    "    plt.show()\n",
    "\n",
    "generar_histograma(distribucion_original)\n",
    "generar_histograma(distribucion_parecida)\n"
   ]
  },
  {
   "cell_type": "markdown",
   "metadata": {},
   "source": [
    "El siguiente codigo es para crear el codigo de huffman"
   ]
  },
  {
   "cell_type": "code",
   "execution_count": 13,
   "metadata": {},
<<<<<<< HEAD
   "outputs": [
    {
     "ename": "KeyError",
     "evalue": "1",
     "output_type": "error",
     "traceback": [
      "\u001b[0;31m---------------------------------------------------------------------------\u001b[0m",
      "\u001b[0;31mKeyError\u001b[0m                                  Traceback (most recent call last)",
      "\u001b[0;32m<ipython-input-13-5841a9dcfdca>\u001b[0m in \u001b[0;36m<module>\u001b[0;34m\u001b[0m\n\u001b[0;32m----> 1\u001b[0;31m \u001b[0mmedia_distribucion\u001b[0m \u001b[0;34m=\u001b[0m \u001b[0mmedia\u001b[0m\u001b[0;34m(\u001b[0m\u001b[0;34m[\u001b[0m\u001b[0mdistribucion_original\u001b[0m\u001b[0;34m]\u001b[0m\u001b[0;34m)\u001b[0m\u001b[0;34m\u001b[0m\u001b[0;34m\u001b[0m\u001b[0m\n\u001b[0m\u001b[1;32m      2\u001b[0m \u001b[0mprint\u001b[0m\u001b[0;34m(\u001b[0m\u001b[0mmedia_distribucion\u001b[0m\u001b[0;34m)\u001b[0m\u001b[0;34m\u001b[0m\u001b[0;34m\u001b[0m\u001b[0m\n",
      "\u001b[0;32m<ipython-input-2-7c970f75e197>\u001b[0m in \u001b[0;36mmedia\u001b[0;34m(imagen, cuadrada)\u001b[0m\n\u001b[1;32m     11\u001b[0m                 \u001b[0msuma\u001b[0m \u001b[0;34m+=\u001b[0m \u001b[0mint\u001b[0m\u001b[0;34m(\u001b[0m\u001b[0mimagen\u001b[0m\u001b[0;34m[\u001b[0m\u001b[0mx\u001b[0m\u001b[0;34m]\u001b[0m\u001b[0;34m[\u001b[0m\u001b[0my\u001b[0m\u001b[0;34m]\u001b[0m\u001b[0;34m)\u001b[0m \u001b[0;34m*\u001b[0m \u001b[0mint\u001b[0m\u001b[0;34m(\u001b[0m\u001b[0mimagen\u001b[0m\u001b[0;34m[\u001b[0m\u001b[0mx\u001b[0m\u001b[0;34m]\u001b[0m\u001b[0;34m[\u001b[0m\u001b[0my\u001b[0m\u001b[0;34m]\u001b[0m\u001b[0;34m)\u001b[0m\u001b[0;34m\u001b[0m\u001b[0;34m\u001b[0m\u001b[0m\n\u001b[1;32m     12\u001b[0m             \u001b[0;32melse\u001b[0m\u001b[0;34m:\u001b[0m\u001b[0;34m\u001b[0m\u001b[0;34m\u001b[0m\u001b[0m\n\u001b[0;32m---> 13\u001b[0;31m                 \u001b[0msuma\u001b[0m \u001b[0;34m+=\u001b[0m \u001b[0mint\u001b[0m\u001b[0;34m(\u001b[0m\u001b[0mimagen\u001b[0m\u001b[0;34m[\u001b[0m\u001b[0mx\u001b[0m\u001b[0;34m]\u001b[0m\u001b[0;34m[\u001b[0m\u001b[0my\u001b[0m\u001b[0;34m]\u001b[0m\u001b[0;34m)\u001b[0m\u001b[0;34m\u001b[0m\u001b[0;34m\u001b[0m\u001b[0m\n\u001b[0m\u001b[1;32m     14\u001b[0m \u001b[0;34m\u001b[0m\u001b[0m\n\u001b[1;32m     15\u001b[0m     \u001b[0;32mreturn\u001b[0m \u001b[0mfloat\u001b[0m\u001b[0;34m(\u001b[0m\u001b[0msuma\u001b[0m\u001b[0;34m)\u001b[0m\u001b[0;34m/\u001b[0m\u001b[0;34m(\u001b[0m\u001b[0mlargo\u001b[0m\u001b[0;34m*\u001b[0m\u001b[0mancho\u001b[0m\u001b[0;34m)\u001b[0m\u001b[0;34m\u001b[0m\u001b[0;34m\u001b[0m\u001b[0m\n",
      "\u001b[0;31mKeyError\u001b[0m: 1"
     ]
    }
   ],
   "source": [
    "suma = \n",
    "media_distribucion = media([distribucion_original])\n",
    "print(media_distribucion)"
=======
   "outputs": [],
   "source": [
    "dist = [('b',0.18),('a',0.01),('c',0.36),('d',0.03),('e',0.03),('f',0.18),('g',0.06),('h',0.06),('i',0.09)]\n",
    "dist2 = [('a',0.25),('b',0.25),('c',0.20),('d',0.15),('e',0.10),('f',0.05)]\n",
    "cod = {\n",
    "    \"a\":\"\",\n",
    "    \"b\":\"\",\n",
    "    \"c\":\"\",\n",
    "    \"d\":\"\",\n",
    "    \"e\":\"\",\n",
    "    \"f\":\"\",\n",
    "    \"g\":\"\",\n",
    "    \"h\":\"\",\n",
    "    \"i\":\"\",\n",
    "}\n",
    "cod2 = {\n",
    "    \"a\":\"\",\n",
    "    \"b\":\"\",\n",
    "    \"c\":\"\",\n",
    "    \"d\":\"\",\n",
    "    \"e\":\"\",\n",
    "    \"f\":\"\",\n",
    "}\n",
    "\n",
    "\n",
    "def get_mas_chicos(arr):\n",
    "  nodo1 = arr[0] # el valor mas chico\n",
    "  nodo2 = arr[1] # el segundo mas chico\n",
    "  i = 2\n",
    "  while i < len(arr):\n",
    "    if arr[i].prob < nodo1.prob :\n",
    "      nodo2 = nodo1\n",
    "      nodo1 = arr[i]\n",
    "    elif arr[i].prob < nodo2.prob :\n",
    "      nodo2 = arr[i]\n",
    "    i += 1\n",
    "  return nodo1,nodo2\n",
    "\n",
    "def actualizar_codigos(codigos,nodo1,nodo2):\n",
    "  for hoja in nodo1.leaves :\n",
    "    codigos[hoja.name] = '0' + codigos[hoja.name]\n",
    "  for hoja in nodo2.leaves :\n",
    "    codigos[hoja.name] = '1' + codigos[hoja.name]\n",
    "\n",
    "def fusionar_nodos(nodos,nodo1,nodo2):\n",
    "  nodos.remove(nodo1)\n",
    "  nodos.remove(nodo2)\n",
    "  grupo = Node(nodo1.name + nodo2.name,prob=nodo1.prob + nodo2.prob)\n",
    "  nodo1.parent = grupo\n",
    "  nodo2.parent = grupo\n",
    "  return grupo\n",
    "\n",
    "def generar_codigo_huffman(dist):\n",
    "  nodos = []\n",
    "  codigos = {}\n",
    "  for elem in dist:\n",
    "    nodos.append(Node(elem[0],prob=elem[1]))\n",
    "    codigos[elem[0]] = \"\"\n",
    "  while len(nodos) != 1:\n",
    "    nodo1, nodo2 = get_mas_chicos(nodos)\n",
    "    grupo = fusionar_nodos(nodos,nodo1,nodo2)\n",
    "    actualizar_codigos(codigos,nodo1,nodo2)\n",
    "    nodos.append(grupo)\n",
    "  return codigos,nodos[0]\n",
    "\n",
    "codigos,arbol = generar_codigo_huffman(dist2)\n",
    "print(RenderTree(arbol))\n",
    "print(codigos)\n"
>>>>>>> 1da040b44a5dff45c4825573dd9b357277677645
   ]
  }
 ],
 "metadata": {
  "colab": {
   "collapsed_sections": [],
   "name": "TPE-TeoInfo.ipynb",
   "provenance": []
  },
  "kernelspec": {
   "display_name": "Python 3",
   "language": "python",
   "name": "python3"
  },
  "language_info": {
   "codemirror_mode": {
    "name": "ipython",
    "version": 3
   },
   "file_extension": ".py",
   "mimetype": "text/x-python",
   "name": "python",
   "nbconvert_exporter": "python",
   "pygments_lexer": "ipython3",
   "version": "3.8.2"
  }
 },
 "nbformat": 4,
 "nbformat_minor": 1
}
