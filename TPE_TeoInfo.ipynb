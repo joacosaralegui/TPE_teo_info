{
 "cells": [
  {
   "cell_type": "markdown",
   "metadata": {
    "colab_type": "text",
    "id": "hpSo4yuDDzfR"
   },
   "source": [
    "**CONSIGNA**\n",
    "1. Dada la foto Will(Original).bmp que llevó Joyce a la estación de policía y la lista de fotos obtenidas por el sistema de búsqueda, implementar un algoritmo que permita ordenar la lista según su parecido con la foto de Will que entregó Joyce, utilizando el factor de correlación como medida de similitud. Analizar los resultados obtenidos.\n"
   ]
  },
  {
   "cell_type": "markdown",
   "metadata": {
    "colab_type": "text",
    "id": "PQ7aiiPOj_kl"
   },
   "source": [
    "Carga de las imagenes de Will (original y a comparar)"
   ]
  },
  {
   "cell_type": "code",
   "execution_count": 1,
   "metadata": {
    "colab": {
     "base_uri": "https://localhost:8080/",
     "height": 244,
     "resources": {
      "http://localhost:8080/nbextensions/google.colab/files.js": {
       "data": "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",
       "headers": [
        [
         "content-type",
         "application/javascript"
        ]
       ],
       "ok": true,
       "status": 200,
       "status_text": ""
      }
     }
    },
    "colab_type": "code",
    "id": "FkhqrMtYDyyW",
    "outputId": "f1aabe4a-0892-4869-bf09-f62dcbcd4495",
    "scrolled": true
   },
   "outputs": [
    {
     "name": "stdout",
     "output_type": "stream",
     "text": [
      "['Will(Original).bmp', 'Will_1.bmp', 'Will_2.bmp', 'Will_3.bmp', 'Will_4.bmp', 'Will_5.bmp', 'Will_Canal10.bmp', 'Will_Canal2.bmp', 'Will_Canal8.bmp', 'Will_ej2.bmp']\n"
     ]
    }
   ],
   "source": [
    "import os\n",
    "filenames = os.listdir(\"img\")\n",
    "filenames.sort()\n",
    "print(filenames)"
   ]
  },
  {
   "cell_type": "markdown",
   "metadata": {},
   "source": [
    "Calculo de la media (o media cuadrada) de intensidad de pixel de una imagen"
   ]
  },
  {
   "cell_type": "code",
   "execution_count": 2,
   "metadata": {
    "colab": {},
    "colab_type": "code",
    "id": "NIQdFR8Zk2Dx"
   },
   "outputs": [],
   "source": [
    "import math\n",
    "\n",
    "def media(imagen, cuadrada=False):\n",
    "    largo = len(imagen)\n",
    "    ancho = len(imagen[0])\n",
    "    acumulador = 0\n",
    "    \n",
    "    #se recorre la imagen\n",
    "    for x in range(largo):\n",
    "        for y in range(ancho):\n",
    "            #y se van acumulando la suma de las intensidades\n",
    "            if cuadrada:\n",
    "                acumulador += int(imagen[x][y]) * int(imagen[x][y]) #se hacen conversiones a int xq... (completar)\n",
    "            else:\n",
    "                acumulador += int(imagen[x][y])\n",
    "                \n",
    "    #luego se divide el total por la cantidad de pixel y se obtiene la media\n",
    "    return float(acumulador)/(largo*ancho)"
   ]
  },
  {
   "cell_type": "markdown",
   "metadata": {},
   "source": [
    "Calculo del desvio estandar de intensidad de pixel de una imagen utilizando su media"
   ]
  },
  {
   "cell_type": "code",
   "execution_count": 3,
   "metadata": {
    "colab": {},
    "colab_type": "code",
    "id": "51e3V4aCk1xL"
   },
   "outputs": [],
   "source": [
    "def desvio(imagen, media_imagen):\n",
    "    \"\"\"\n",
    "    desvio = sqrt(<x2> - <x>2)\n",
    "    \"\"\"\n",
    "    media_cuadrada_imagen = media(imagen,True)\n",
    "    varianza = media_cuadrada_imagen - (media_imagen*media_imagen)\n",
    "    desvio = math.sqrt(varianza)\n",
    "    return desvio"
   ]
  },
  {
   "cell_type": "markdown",
   "metadata": {},
   "source": [
    "Calculo de la correlación cruzada entre dos imagenes"
   ]
  },
  {
   "cell_type": "code",
   "execution_count": 4,
   "metadata": {
    "colab": {},
    "colab_type": "code",
    "id": "ZT45k8lOk1et"
   },
   "outputs": [],
   "source": [
    "def correlacion_cruzada(imagen_a,imagen_b):\n",
    "    if(len(imagen_a)!= len(imagen_b) or len(imagen_a[0]) != len(imagen_b[0])):\n",
    "        return\n",
    "\n",
    "    suma_ambos = 0\n",
    "    largo = len(imagen_a)\n",
    "    ancho = len(imagen_a[0])\n",
    "    for x in range(largo):\n",
    "        for y in range(ancho):\n",
    "            suma_ambos += int(imagen_a[x][y]) * int(imagen_b[x][y])\n",
    "\n",
    "    return  float(suma_ambos)/(largo*ancho)"
   ]
  },
  {
   "cell_type": "markdown",
   "metadata": {},
   "source": [
    "Calculo del factor de correlación cruzada entre dos imagenes"
   ]
  },
  {
   "cell_type": "code",
   "execution_count": 5,
   "metadata": {
    "colab": {},
    "colab_type": "code",
    "id": "4WNqV32-k1Mt"
   },
   "outputs": [],
   "source": [
    "def factor_correlacion_cruzada(imagen_a,imagen_b):\n",
    "    media_a = media(imagen_a)\n",
    "    media_b = media(imagen_b)\n",
    "    desvio_a = desvio(imagen_a, media_a)\n",
    "    desvio_b = desvio(imagen_b, media_b)\n",
    "    correlacion_cruzada_ambas = correlacion_cruzada(imagen_a,imagen_b)\n",
    "\n",
    "    return round((float(correlacion_cruzada_ambas - (media_a*media_b))) / (desvio_a*desvio_b) , 5)"
   ]
  },
  {
   "cell_type": "code",
   "execution_count": 2,
   "metadata": {
    "colab": {},
    "colab_type": "code",
    "id": "fAzcoKgvGHQG"
   },
   "outputs": [],
   "source": [
    "import os\n",
    "import imageio\n",
    "\n",
    "will_original = imageio.imread(os.path.join(\"img\",filenames[0]))\n",
    "will_fotos_busqueda = []\n",
    "for i in range(1,6):\n",
    "  #En la segunda posicion se guarda el factor de correlacion cruzada para posteriormente ordenarlo\n",
    "  will_fotos_busqueda.append( imageio.imread(os.path.join(\"img\",filenames[i])))  \n",
    "\n",
    "will_policia = imageio.imread(os.path.join(\"img\",filenames[-1]))"
   ]
  },
  {
   "cell_type": "code",
   "execution_count": 7,
   "metadata": {
    "colab": {},
    "colab_type": "code",
    "id": "_hC_2ScLPPqW"
   },
   "outputs": [
    {
     "name": "stdout",
     "output_type": "stream",
     "text": [
      "Procesado imagen 1 ...\n",
      "Procesado imagen 2 ...\n",
      "Procesado imagen 3 ...\n",
      "Procesado imagen 4 ...\n",
      "Procesado imagen 5 ...\n"
     ]
    }
   ],
   "source": [
    "import numpy as np\n",
    "\n",
    "resultados = []\n",
    "i = 1\n",
    "for imagen in will_fotos_busqueda:\n",
    "    print(\"Procesado imagen \" + str(i) + \" ...\")\n",
    "    corr = factor_correlacion_cruzada(will_original,imagen)\n",
    "    resultados.append((\"Imagen \" + str(i), corr,imagen))\n",
    "    i += 1\n"
   ]
  },
  {
   "cell_type": "code",
   "execution_count": 8,
   "metadata": {
    "colab": {},
    "colab_type": "code",
    "id": "5wTeo7u2rqpB"
   },
   "outputs": [
    {
     "name": "stdout",
     "output_type": "stream",
     "text": [
      "Imagen 1\n",
      "Imagen 2\n",
      "Imagen 3\n",
      "Imagen 5\n",
      "Imagen 4\n"
     ]
    }
   ],
   "source": [
    "# ordenar los resultados\n",
    "resultados.sort(key=lambda x: x[1], reverse=True)\n",
    "for r in resultados:\n",
    "    print(r[0])"
   ]
  },
  {
   "cell_type": "code",
   "execution_count": 9,
   "metadata": {
    "colab": {
     "base_uri": "https://localhost:8080/",
     "height": 286
    },
    "colab_type": "code",
    "id": "YGYHiCguI2v2",
    "outputId": "d07a9f8f-6cf2-4bc8-a39d-d5666129aec6"
   },
   "outputs": [
    {
     "name": "stdout",
     "output_type": "stream",
     "text": [
      "Populating the interactive namespace from numpy and matplotlib\n"
     ]
    },
    {
     "data": {
      "image/png": "[encoded data removed]",
      "text/plain": [
       "<Figure size 432x288 with 1 Axes>"
      ]
     },
     "metadata": {
      "needs_background": "light"
     },
     "output_type": "display_data"
    }
   ],
   "source": [
    "%pylab inline\n",
    "import matplotlib.pyplot as plt\n",
    "imgplot = plt.imshow(will_original,cmap='gray',vmin=0,vmax=255)\n",
    "plt.show()"
   ]
  },
  {
   "cell_type": "markdown",
   "metadata": {},
   "source": [
    "2- Un policía amigo de Joyce llegó a la estación de policía un rato más tarde, trayendo consigo otra foto para analizarla. El policía de guardia, para ahorrarse la búsqueda en el SIDPE, propuso estudiar las similitudes respecto a la imagen que llevó Joyce mediante esta estrategia a implementar: Obtener la distribución de intensidades de la imagen de la foto que llevó Joyce, de la foto del niño más parecido (obtenida por el sistema de búsqueda) y de la foto que tenía el policía en su billetera. Generar el histograma de cada imagen y calcular la media y el desvío de cada distribución. Analizar las similitudes y diferencias entre uno y otro indicador."
   ]
  },
  {
   "cell_type": "code",
   "execution_count": 10,
   "metadata": {},
   "outputs": [
    {
     "ename": "NameError",
     "evalue": "name 'distribucion_intensidad0' is not defined",
     "output_type": "error",
     "traceback": [
      "\u001b[0;31m---------------------------------------------------------------------------\u001b[0m",
      "\u001b[0;31mNameError\u001b[0m                                 Traceback (most recent call last)",
      "\u001b[0;32m<ipython-input-10-d29adc8c14ac>\u001b[0m in \u001b[0;36m<module>\u001b[0;34m\u001b[0m\n\u001b[1;32m     20\u001b[0m \u001b[0;34m\u001b[0m\u001b[0m\n\u001b[1;32m     21\u001b[0m \u001b[0mdistribucion_original\u001b[0m \u001b[0;34m=\u001b[0m \u001b[0mdistribucion_intensidad\u001b[0m\u001b[0;34m(\u001b[0m\u001b[0mwill_original\u001b[0m\u001b[0;34m)\u001b[0m\u001b[0;34m\u001b[0m\u001b[0;34m\u001b[0m\u001b[0m\n\u001b[0;32m---> 22\u001b[0;31m \u001b[0mdistribucion_parecida\u001b[0m \u001b[0;34m=\u001b[0m \u001b[0mdistribucion_intensidad0\u001b[0m\u001b[0;34m(\u001b[0m\u001b[0mwill_parecida\u001b[0m\u001b[0;34m)\u001b[0m\u001b[0;34m\u001b[0m\u001b[0;34m\u001b[0m\u001b[0m\n\u001b[0m\u001b[1;32m     23\u001b[0m \u001b[0mdistribucion_policia\u001b[0m \u001b[0;34m=\u001b[0m \u001b[0mdistribucion_intensidad\u001b[0m\u001b[0;34m(\u001b[0m\u001b[0mwill_policia\u001b[0m\u001b[0;34m)\u001b[0m\u001b[0;34m\u001b[0m\u001b[0;34m\u001b[0m\u001b[0m\n\u001b[1;32m     24\u001b[0m \u001b[0;34m\u001b[0m\u001b[0m\n",
      "\u001b[0;31mNameError\u001b[0m: name 'distribucion_intensidad0' is not defined"
     ]
    }
   ],
   "source": [
    "def distribucion_intensidad(imagen):\n",
    "    #posible mejora, en ves de usar un arreglo usar otra estructura\n",
    "    #como un mapa o algo asi porque hay muchos valores de intesidad \n",
    "    #que no se usan\n",
    "    dist = {} #esto nose si se hace asi -> joya\n",
    "    largo = len(imagen)\n",
    "    ancho = len(imagen[0])\n",
    "    for x in range(largo):\n",
    "        for y in range(ancho):\n",
    "            valor = (int)(imagen[x][y])\n",
    "            if valor in dist:\n",
    "                dist[valor] += 1\n",
    "            else:\n",
    "                dist[valor] = 1\n",
    "    for key in dist:\n",
    "        dist[key]=dist[key]/(largo*ancho)\n",
    "    return dist\n",
    "\n",
    "will_parecida = will_fotos_busqueda[0]\n",
    "\n",
    "distribucion_original = distribucion_intensidad(will_original)\n",
    "distribucion_parecida = distribucion_intensidad0(will_parecida)\n",
    "distribucion_policia = distribucion_intensidad(will_policia)\n",
    "\n",
    "print(distribucion_original)\n",
    "print(distribucion_parecida)\n",
    "print(distribucion_policia)"
   ]
  },
  {
   "cell_type": "code",
   "execution_count": null,
   "metadata": {},
   "outputs": [],
   "source": [
    "import matplotlib.pyplot as plt\n",
    "\n",
    "plt.rcParams['figure.figsize'] = (13,6)\n",
    "\n",
    "# Funcion para poner el label arriba de cada barrita\n",
    "def autolabel(rects,ejes):\n",
    "    \"\"\"Attach a text label above each bar in *rects*, displaying its height.\"\"\"\n",
    "    for rect in rects:\n",
    "        height = round((float)(rect.get_height()),4)\n",
    "        ejes.annotate('{}'.format(height),\n",
    "                    xy=(rect.get_x() + rect.get_width() / 2, height),\n",
    "                    xytext=(0, 3),  # 3 points vertical offset\n",
    "                    textcoords=\"offset points\",\n",
    "                    ha='center', va='bottom',fontsize=10)\n",
    "\n",
    "# funcion para generar histograma a partir de una distribucion\n",
    "def generar_histograma(distribucion):\n",
    "    valores = list(distribucion.values())\n",
    "    intensidades = list(distribucion.keys())\n",
    "\n",
    "    # configuracion del plotting\n",
    "    figura = plt.figure()\n",
    "    ejes = figura.add_axes([0,0,1,1])\n",
    "    histograma = ejes.bar(intensidades,valores,width=14)\n",
    "    plt.xticks(intensidades,intensidades)\n",
    "\n",
    "    # titulos y labels\n",
    "    ejes.set_title('Distribucion de intensidades')\n",
    "    ejes.set_xlabel('Intesidad (0 a 255)')\n",
    "    ejes.set_ylabel('Probabilidad')\n",
    "    \n",
    "    # escalas \n",
    "    plt.ylim(0, 0.55) #lo seteo entre 0 y 0.55 porque conozco entre que valores se mueven los histogramas\n",
    "    plt.autoscale(False)\n",
    "\n",
    "    # generar autolabels\n",
    "    autolabel(histograma,ejes)\n",
    "\n",
    "    # Mostrar el grafico\n",
    "    plt.show()\n",
    "\n",
    "generar_histograma(distribucion_original)\n",
    "generar_histograma(distribucion_parecida)\n",
    "generar_histograma(distribucion_policia)\n"
   ]
  },
  {
   "cell_type": "code",
   "execution_count": null,
   "metadata": {},
   "outputs": [],
   "source": [
    "import matplotlib\n",
    "import matplotlib.pyplot as plt\n",
    "import numpy as np\n",
    "from collections import OrderedDict\n",
    "\n",
    "def autolabel(rects,ax):\n",
    "    for rect in rects:\n",
    "      height = round((float)(rect.get_height()),4)\n",
    "      ax.annotate('{}'.format(height),\n",
    "                  xy=(rect.get_x() + rect.get_width() / 2, height),\n",
    "                  xytext=(0, 3),  # 3 points vertical offset\n",
    "                  textcoords=\"offset points\",\n",
    "                  ha='center', va='bottom',fontsize=10,rotation=90)\n",
    "        \n",
    "def histogram_multiple(distribucion1,label1,distribucion2,label2,distribucion3,label3):\n",
    "    \n",
    "    #ordenamos los diccionarios por clave (intensidades)\n",
    "    d1 = OrderedDict(sorted(distribucion1.items()))\n",
    "    d2 = OrderedDict(sorted(distribucion2.items()))\n",
    "    d3 = OrderedDict(sorted(distribucion3.items()))\n",
    "    b = OrderedDict(sorted(distribucion_original.items()))\n",
    "\n",
    "    #obtenemos las intensidades a partir de cualquier diccionario\n",
    "    intensidades = list(d1.keys())\n",
    "    \n",
    "    #obtenemos los valores\n",
    "    d1_valores = list(d1.values())\n",
    "    d2_valores = list(d2.values())\n",
    "    d3_valores = list(d3.values())\n",
    "\n",
    "\n",
    "    ind = np.arange(len(intensidades))  # the x locations for the groups\n",
    "    width = 0.525  # the width of the bars\n",
    "\n",
    "    fig, ax = plt.subplots()\n",
    "    rects1 = ax.bar((ind - width/2)*2, d1_valores, width,\n",
    "                    label=label1)\n",
    "    rects2 = ax.bar((ind)*2, d2_valores, width,\n",
    "                    label=label2)\n",
    "    rects3 = ax.bar((ind + width/2)*2, d3_valores, width,\n",
    "                    label=label3)\n",
    "    # escalas \n",
    "    plt.ylim(0, 0.55) #lo seteo entre 0 y 0.55 porque conozco entre que valores se mueven los histogramas\n",
    "\n",
    "    # Add some text for labels, title and custom x-axis tick labels, etc.\n",
    "    ax.set_ylabel('Probabilidad')\n",
    "    ax.set_title('Distribución de intensidades')\n",
    "    ax.set_xticks(ind*2)\n",
    "    ax.set_xticklabels(intensidades)\n",
    "    ax.legend()\n",
    "    \n",
    "    autolabel(rects1,ax)\n",
    "    autolabel(rects2,ax)\n",
    "    autolabel(rects3,ax)\n",
    "\n",
    "    fig.tight_layout()\n",
    "\n",
    "    plt.show()\n",
    "    \n",
    "histogram_multiple(distribucion_original,'original',distribucion_parecida,'parecida',distribucion_policia,'policia')"
   ]
  },
  {
   "cell_type": "code",
   "execution_count": null,
   "metadata": {},
   "outputs": [],
   "source": [
    "import math\n",
    "\n",
    "def media_dist(dist, cuadrada=False):\n",
    "    suma = 0.0\n",
    "    for x in dist:\n",
    "        if(cuadrada):\n",
    "            suma += x*x*dist[x]\n",
    "        else:\n",
    "            suma += x*dist[x]\n",
    "    return float(suma)\n",
    "\n",
    "def desvio_dist(dist, media_distribucion):\n",
    "    media_cuadrada_dist = media_dist(dist,True)\n",
    "    varianza = media_cuadrada_dist - (media_distribucion*media_distribucion)\n",
    "    return math.sqrt(varianza)\n",
    "\n",
    "distribuciones = [(distribucion_original,\"Dist original\"), (distribucion_parecida,\"Dist parecida\"), (distribucion_policia,\"Dist policia\")]\n",
    "for dist, nombre in distribuciones:\n",
    "    media_distribucion = media_dist(dist)\n",
    "    desvio_distribucion = desvio_dist(dist, media_distribucion)\n",
    "    print(nombre)\n",
    "    print(media_distribucion)\n",
    "    print(desvio_distribucion)\n",
    "    print(\"************\")\n",
    "    "
   ]
  },
  {
   "cell_type": "markdown",
   "metadata": {},
   "source": [
    "3. Implementar un algoritmo que permita codificar una imagen mediante el método de Huffman y posteriormente reconstruirla mediante otro algoritmo decodificador (el archivo comprimido deberá contener la secuencia de bits codificados junto con los datos necesarios para la reconstrucción de la imagen original). Con dicho algoritmo codificador:\n",
    "    - a) Comprimir con Huffman semi-estático la imagen original.\n",
    "    - b) Comprimir la imagen del resultado más parecido con el código de Huffman asociado a la imagen original.\n",
    "    - c) Comprimir la imagen que trajo el policía con el código de Huffman asociado a la imagen original.\n",
    "    - d) Comprimir la imagen que trajo el policía utilizando Huffman semi-estático, esta vez utilizando el código generado para  la propia imagen. Comparar con el resultado del inciso anterior.\n",
    "    - e) Comparar las tasas de compresión obtenidas por las compresiones en los ejercicios (a), (b), (c) y (d).\n",
    "Nota: el algoritmo decodificador deberá permitir reconstruir los datos generados por el codificador y obtener la imagen original."
   ]
  },
  {
   "cell_type": "code",
   "execution_count": null,
   "metadata": {},
   "outputs": [],
   "source": [
    "class Tree:\n",
    "    def __init__(self,simbolo=None, prob=None, left=None, right=None):\n",
    "        self.simbolo = simbolo\n",
    "        self.prob = prob\n",
    "        self.left = left\n",
    "        self.right = right\n",
    "\n",
    "    def is_leaf(self):\n",
    "        return (self.left is None and self.right is None) \n",
    "\n",
    "    #def get_leaves(self):\n",
    "    #  return self.__leaves(self)\n",
    "\n",
    "    def get_leaves(self):\n",
    "        if self.is_leaf():\n",
    "            return [self]\n",
    "        else:\n",
    "            aux = []\n",
    "        if self.left is not None:\n",
    "            aux += self.left.get_leaves()\n",
    "        if self.right is not None:\n",
    "            aux += self.right.get_leaves()\n",
    "        return aux\n",
    "\n",
    "    def __repr__(self):\n",
    "        return \"<%s,%s>\" % (self.simbolo, self.prob)\n",
    "\n",
    "    def __str__(self):\n",
    "        return \"<%s,%s>\" % (self.simbolo, self.prob)"
   ]
  },
  {
   "cell_type": "code",
   "execution_count": null,
   "metadata": {},
   "outputs": [],
   "source": [
    "def get_mas_chicos(arr):\n",
    "    nodo1 = arr[0] # el valor mas chico\n",
    "    nodo2 = arr[1] # el segundo mas chico\n",
    "    i = 2\n",
    "    while i < len(arr):\n",
    "        if arr[i].prob < nodo1.prob :\n",
    "            nodo2 = nodo1\n",
    "            nodo1 = arr[i]\n",
    "        elif arr[i].prob < nodo2.prob :\n",
    "            nodo2 = arr[i]\n",
    "        i += 1\n",
    "    return nodo1,nodo2\n",
    "\n",
    "#Actualiza los codigos de los nodos que fusiono\n",
    "def actualizar_codigos(codigos,nodo1,nodo2):\n",
    "    for hoja in nodo1.get_leaves() :\n",
    "        codigos[hoja.simbolo] = '0' + codigos[hoja.simbolo]\n",
    "    for hoja in nodo2.get_leaves() :\n",
    "        codigos[hoja.simbolo] = '1' +codigos[hoja.simbolo]\n",
    "\n",
    "#Fusiona los dos nodos de menor prob y los elimina de los nodos\n",
    "def fusionar_nodos(nodos,nodo1,nodo2):\n",
    "    nodos.remove(nodo1)\n",
    "    nodos.remove(nodo2)\n",
    "    grupo = Tree(\"grupito\",nodo1.prob+nodo2.prob,nodo1,nodo2)\n",
    "    nodo1.parent = grupo\n",
    "    nodo2.parent = grupo\n",
    "    return grupo\n",
    "\n",
    "#Genera el codigo de huffman y su arbol correspondiente\n",
    "def generar_codigo_huffman(dist):\n",
    "    nodos = []\n",
    "    codigos = {}\n",
    "    for key in dist:\n",
    "        nodos.append(Tree(key,dist[key]))\n",
    "        codigos[key] = \"\"\n",
    "    while len(nodos) != 1:\n",
    "        nodo1, nodo2 = get_mas_chicos(nodos)\n",
    "        grupo = fusionar_nodos(nodos,nodo1,nodo2)\n",
    "        actualizar_codigos(codigos,nodo1,nodo2)\n",
    "        nodos.append(grupo)\n",
    "    return codigos,nodos[0]"
   ]
  },
  {
   "cell_type": "code",
   "execution_count": null,
   "metadata": {},
   "outputs": [],
   "source": [
    "codigos_will_original,arbol_will_original=generar_codigo_huffman(distribucion_original)\n",
    "\n",
    "def print_arbol(nodo, level):\n",
    "    if nodo.is_leaf():\n",
    "        print(\"----\"*level + \"   => \"+ str(nodo.simbolo) + \" | \" + str(nodo.prob))\n",
    "    else:\n",
    "        level = level+1\n",
    "        print(\"----\"*level + \"0\")\n",
    "        print_arbol(nodo.left,level)\n",
    "        print(\"----\"*level + \"1\")\n",
    "        print_arbol(nodo.right,level)\n",
    "    \n",
    "print_arbol(arbol_will_original,0)\n",
    "print(\"Codigos generados:\",codigos_will_original)"
   ]
  },
  {
   "cell_type": "code",
   "execution_count": null,
   "metadata": {},
   "outputs": [],
   "source": [
    "def guardar_bits_a_archivo(lista_de_bits, nombre_archivo):\n",
    "           \n",
    "    lista_de_bytes = []\n",
    "\n",
    "    # cada 8 bits, tengo que armar un char\n",
    "    for i in range(0, len(lista_de_bits), 8):\n",
    "        \n",
    "        # me quedo con 8 caracteres de la lista de bits\n",
    "        ocho_bits = lista_de_bits[i:i+8]\n",
    "        \n",
    "        # necesito primero convertirlo a entero (4 bytes!) y después a chr (8 bits)\n",
    "        # PATCH: para evitar problemas de codificación UNICODE / UTF-8 / etc, mapeamos\n",
    "        # ese char que generamos a un byte en codificaciones ASCII extendido (en Python\n",
    "        # la llaman latin1).\n",
    "        byte = bytes(chr(int(''.join([str(bit) for bit in ocho_bits]), 2)), encoding=\"latin1\")\n",
    "        \n",
    "        # lo pongo en mi lista de bytes\n",
    "        lista_de_bytes.append(byte)\n",
    "\n",
    "    # y los escribo en mi archivo como datos en bytes\n",
    "    with open(nombre_archivo, 'wb') as f:\n",
    "        for byte in lista_de_bytes:\n",
    "            f.write(byte)\n",
    "\n",
    "def leer_bits_de_archivo(nombre_archivo):\n",
    "    # inicializo la lista de bytes\n",
    "    lista_de_bytes = []\n",
    "\n",
    "    # ahora leo el archivo, poniendo cada byte que leo en la lista\n",
    "    with open(nombre_archivo, 'rb') as f:\n",
    "        while True:\n",
    "            byte = f.read(1)\n",
    "            if byte:\n",
    "                lista_de_bytes.append(byte)\n",
    "            else:\n",
    "                break\n",
    "\n",
    "    # recorro la lista de bytes y voy convirtiendo el char a binario\n",
    "    result = []\n",
    "    for byte in lista_de_bytes:\n",
    "        bits = bin(ord(byte))[2:]\n",
    "        bits = '00000000'[len(bits):] + bits\n",
    "        result.extend([int(b) for b in bits])\n",
    "    \n",
    "    return result"
   ]
  },
  {
   "cell_type": "code",
   "execution_count": null,
   "metadata": {},
   "outputs": [],
   "source": [
    "# Formato del header:\n",
    "# [0,7] #simbolos \n",
    "# [8,10] bits_extra \n",
    "# [11,50] ancho \n",
    "# [51,51 + #simbolos * 40 - 1] (simbolo, freq) \n",
    "# datos  \n",
    "# tantos bits en 0 como diga bits_extra\n",
    "# ----------------------------------------------\n",
    "# Definicion de tamaños del header\n",
    "HEADER_CANT_SIMBOLOS = 8\n",
    "HEADER_BITS_EXTRA = 3\n",
    "HEADER_ANCHO = 40\n",
    "HEADER_SIMBOLO = 8\n",
    "HEADER_FREQ = 32\n",
    "\n",
    "# Funcion que dado un valor retorna la representacion \n",
    "# de ese valor en una lista de bits de longitud \n",
    "# cantidad_deseada\n",
    "def get_bitlist(valor,cantidad_deseada):\n",
    "    lista_bits = [int(x) for x in bin(valor)[2:]]\n",
    "    if len(lista_bits) < cantidad_deseada:\n",
    "        lista_bits = [0]*(cantidad_deseada - len(lista_bits)) + lista_bits   \n",
    "    return lista_bits\n",
    "\n",
    "# Funcion que crea el header a partir de los datos\n",
    "# de la distribucion, ancho, largo y bits_extra\n",
    "def crear_header(dist,ancho,largo,bits_extra):\n",
    "    \n",
    "    # Se obtiene la lista de bits para #simbolos\n",
    "    bits_simbolos = get_bitlist(len(dist),HEADER_CANT_SIMBOLOS)\n",
    "    \n",
    "    # Se obtine la lista de bits para bits_extra\n",
    "    bits_extra = get_bitlist(bits_extra,HEADER_BITS_EXTRA)\n",
    "    \n",
    "    # Se obtiene la lista de bits para el ancho\n",
    "    bits_ancho = get_bitlist(ancho,HEADER_ANCHO)\n",
    "\n",
    "    # Se crea la lista de bits para la distribucion\n",
    "    # de frecuencias\n",
    "    bits_dist = []\n",
    "    for key in dist:\n",
    "        bits_dist += get_bitlist(key,HEADER_SIMBOLO)\n",
    "        bits_dist += get_bitlist((int)(dist[key]*ancho*largo),HEADER_FREQ)\n",
    "    \n",
    "    # Se concatenan las listas de bits\n",
    "    bits_header = bits_simbolos + bits_extra + bits_ancho + bits_dist\n",
    "  \n",
    "    return bits_header\n",
    "\n",
    "def generar_codigo(imagen,codigo):\n",
    "    codificacion = []\n",
    "    for i in range(len(imagen)):\n",
    "        for j in range(len(imagen[i])):\n",
    "            for c in codigo[imagen[i][j]]:\n",
    "                codificacion.append((int)(c))\n",
    "    return codificacion\n",
    "\n",
    "def preorder(arbol):\n",
    "    if( arbol is not None):\n",
    "        print(arbol.simbolo)\n",
    "        preorder(arbol.left)\n",
    "        preorder(arbol.right)\n",
    "\n",
    "def codificar_imagen(imagen,distribucion):\n",
    "    \n",
    "    # Se crea el codigo de huffman asociado a la distribucion\n",
    "    diccionario,arbol = generar_codigo_huffman(distribucion)\n",
    "    \n",
    "    print(diccionario)\n",
    "    preorder(arbol)\n",
    "    \n",
    "    # Se crea la parte de datos del archivo\n",
    "    datos = generar_codigo(imagen, diccionario)\n",
    "    \n",
    "    # Bits extra son los bits que hay que agregar para que el\n",
    "    # tamaño de datos sea multiplo de 8\n",
    "    bit_sobra = (3+len(datos))%8\n",
    "    bit_extra = 0\n",
    "    if(bit_sobra != 0):\n",
    "        bit_extra = 8-bit_sobra\n",
    "    \n",
    "    # Si hay que agregar bits se agregan\n",
    "    for i in range(0,bit_extra):\n",
    "        datos.append(0)\n",
    "    \n",
    "    # Se crea el header\n",
    "    header = crear_header(distribucion,len(imagen[0]),len(imagen),bit_extra)\n",
    "    \n",
    "    # Se retorna la lista de bits del archivo para guardarla\n",
    "    return header + datos;\n",
    "    \n",
    "    \n",
    "    "
   ]
  },
  {
   "cell_type": "code",
   "execution_count": null,
   "metadata": {},
   "outputs": [],
   "source": [
    "# Funcion que dada una lista de bits\n",
    "# retorna el valor asociado a esta\n",
    "def get_int_value(lista_de_bits):\n",
    "    value = 0\n",
    "    for bit in lista_de_bits:\n",
    "        value = (value << 1) | bit\n",
    "    return value\n",
    "\n",
    "\n",
    "# Funcion que dada una lista de bits del tipo\n",
    "# de archivo '.teoinfo' devuelve la distribucion\n",
    "# los datos y el ancho\n",
    "def separar_header(lista_de_bits):\n",
    "        \n",
    "    # Se lee #simbolos\n",
    "    inicio = 0\n",
    "    fin = HEADER_CANT_SIMBOLOS\n",
    "    simbolos = get_int_value(lista_de_bits[inicio:fin])\n",
    "    \n",
    "    # Se lee bits_extra\n",
    "    inicio = fin\n",
    "    fin = inicio + HEADER_BITS_EXTRA\n",
    "    bit_extra = get_int_value(lista_de_bits[inicio:fin])\n",
    "    \n",
    "    # Se lee ancho\n",
    "    inicio = fin\n",
    "    fin = inicio + HEADER_ANCHO\n",
    "    ancho = get_int_value(lista_de_bits[inicio:fin])\n",
    "    \n",
    "    # Variables para rearmar la distribucion \n",
    "    dist = {}\n",
    "    acum = 0\n",
    "    \n",
    "    # Se lee la distribucion que se encuentra en el header\n",
    "    inicio_simbolo = fin\n",
    "    fin_simbolo = inicio_simbolo + HEADER_SIMBOLO\n",
    "    inicio_freq = fin_simbolo\n",
    "    fin_freq = inicio_freq + HEADER_FREQ\n",
    "    offset = HEADER_SIMBOLO + HEADER_FREQ\n",
    "    for i in range(0,simbolos):\n",
    "        simb = get_int_value(lista_de_bits[inicio_simbolo:fin_simbolo])\n",
    "        freq = get_int_value(lista_de_bits[inicio_freq:fin_freq])\n",
    "        dist[simb] = freq\n",
    "        acum += freq\n",
    "        inicio_simbolo += offset\n",
    "        fin_simbolo += offset\n",
    "        inicio_freq += offset\n",
    "        fin_freq += offset\n",
    "    \n",
    "    # Como viene dada por la frecuencia se divide por el total\n",
    "    # para obtener probabilidades\n",
    "    for key in dist:\n",
    "        dist[key] = dist[key]/acum\n",
    "    \n",
    "    # Se leen los datos sin leer los bits extra\n",
    "    inicio = HEADER_CANT_SIMBOLOS + HEADER_BITS_EXTRA + HEADER_ANCHO + simbolos*offset\n",
    "    datos = lista_de_bits[inicio:-bit_extra]\n",
    "    \n",
    "    return dist,datos,ancho\n",
    "\n",
    "# Funcion que dado las datos, el arbol de Huffman\n",
    "# y el ancho decodifica los datos en la imagen \n",
    "# correspondiente\n",
    "def decodificar_valores(raiz, datos, ancho):\n",
    "    imagen = [[]]\n",
    "    index_datos = 0\n",
    "    index_columna = 0\n",
    "    index_fila = 0\n",
    "    arbol = raiz\n",
    "    while index_datos < len(datos):            \n",
    "        if index_columna >= ancho:\n",
    "            index_fila += 1\n",
    "            imagen.append([])\n",
    "            index_columna = 0\n",
    "                    \n",
    "        while arbol.is_leaf() == False and index_datos < len(datos):\n",
    "            if int(datos[index_datos]) == 0:\n",
    "                arbol = arbol.left\n",
    "            else:\n",
    "                arbol = arbol.right\n",
    "            index_datos += 1\n",
    "        \n",
    "        imagen[index_fila].append(arbol.simbolo)\n",
    "        index_columna += 1\n",
    "        arbol = raiz\n",
    "        \n",
    "        if index_datos % 100000 == 0:\n",
    "            print(str(index_datos),' de ',str(len(datos)))\n",
    "    return imagen\n",
    "\n",
    "# Lee una imagen guardada en el formato '.teoinfo'\n",
    "def decodificar(nombre_archivo=\"imagen.teoinfo\"):\n",
    "    \n",
    "    # Obtengo lista de bits\n",
    "    bits = leer_bits_de_archivo(nombre_archivo)\n",
    "\n",
    "    # Separo los datos del header (distribución y el ancho de la imagen) \n",
    "    dist, datos, ancho = separar_header(bits)\n",
    "\n",
    "    # Armo el árbol para hacer la decodificación de los datos\n",
    "    codigos,raiz = generar_codigo_huffman(dist)\n",
    "\n",
    "    # Armo la imagen a partir del arbol, los datos y el ancho\n",
    "    imagen = decodificar_valores(raiz, datos, ancho)\n",
    "\n",
    "    return imagen\n",
    "\n"
   ]
  },
  {
   "cell_type": "code",
   "execution_count": null,
   "metadata": {},
   "outputs": [],
   "source": [
    "def almacenar_imagen(imagen, distribucion,nombre_archivo=\"imagen.teoinfo\"):\n",
    "    # Genero codificacion huffman\n",
    "    diccionario, arbol = generar_codigo_huffman(distribucion)\n",
    "    # Transformo mi imagen en codigo de bits\n",
    "    datos = generar_codigo(imagen, diccionario)\n",
    "\n",
    "    # Calculo los bits extra y los agrego como ceros\n",
    "    bit_sobra = (3+len(datos))%8\n",
    "    bit_extra = 0 if bit_sobra == 0 else 8-bit_sobra\n",
    "        \n",
    "    for i in range(0,bit_extra):\n",
    "        datos.append(0)\n",
    "    \n",
    "    # Construyo el header\n",
    "    header = crear_header(distribucion,len(imagen[0]),len(imagen),bit_extra)\n",
    "    # Uno header y datos\n",
    "    lista_de_bits = header + datos\n",
    "    # Guardo a archivo\n",
    "    guardar_bits_a_archivo(lista_de_bits, nombre_archivo)\n",
    "        "
   ]
  },
  {
   "cell_type": "markdown",
   "metadata": {},
   "source": [
    "a) Comprimir con Huffman semi-estático la imagen original.\n",
    "b) Comprimir la imagen del resultado más parecido con el código de Huffman asociado a la imagen original.\n",
    "c) Comprimir la imagen que trajo el policía con el código de Huffman asociado a la imagen original.\n",
    "d) Comprimir la imagen que trajo el policía utilizando Huffman semi-estático, esta vez utilizando el código generado para la propia imagen. Comparar con el resultado del inciso anterior.\n",
    "e) Comparar las tasas de compresión obtenidas por las compresiones en los ejercicios (a), (b), (c) y (d). Nota: el algoritmo decodificador deberá permitir reconstruir los datos generados por el codificador y obtener la imagen original."
   ]
  },
  {
   "cell_type": "code",
   "execution_count": null,
   "metadata": {},
   "outputs": [],
   "source": [
    "# a)\n",
    "almacenar_imagen(will_original, distribucion_original,\"willoriginal.teoinfo\")\n",
    "# b)\n",
    "# Uso la distribucion de la original para que el codigo de huffman sea el de la original y el header refleje tambien esto\n",
    "almacenar_imagen(will_parecida, distribucion_original,\"willparecida_orig.teoinfo\")\n",
    "#c)\n",
    "almacenar_imagen(will_policia, distribucion_original,\"willpolicia_orig.teoinfo\")\n",
    "#d)\n",
    "almacenar_imagen(will_policia, distribucion_policia,\"willpolicia.teoinfo\")\n",
    "\n",
    "imagenes_reconstruidas = [\n",
    "    (will_original,decodificar(\"willoriginal.teoinfo\")),\n",
    "    (will_parecida,decodificar(\"willparecida_orig.teoinfo\")),\n",
    "    (will_policia,decodificar(\"willpolicia_orig.teoinfo\")),\n",
    "    (will_policia,decodificar(\"willpolicia.teoinfo\")),\n",
    "]"
   ]
  },
  {
   "cell_type": "code",
   "execution_count": null,
   "metadata": {},
   "outputs": [],
   "source": [
    "%pylab inline\n",
    "import matplotlib.pyplot as plt\n",
    "\n",
    "for i1,i2 in imagenes_reconstruidas:\n",
    "    f, axarr = plt.subplots(1,2)\n",
    "    axarr[0].imshow(i1,cmap='gray',vmin=0,vmax=255)\n",
    "    axarr[1].imshow(i2,cmap='gray',vmin=0,vmax=255)\n",
    "\n",
    "    plt.show()"
   ]
  },
  {
   "cell_type": "markdown",
   "metadata": {},
   "source": [
    "Tres canales de televisión distintos (Canal 2, Canal 8 y Canal 10) transmiten todos los días la fotografía de Will. Sin embargo, un fenómeno extraño hace que cada canal distorsione las imágenes de diferente forma. Al notarlo, el comisario de policía decidió estudiar el ruido de cada uno, esperando que esta información permita encontrar al joven Will. Considerando que la imagen de entrada a cada canal es la foto de Will provista por su madre al llegar a la estación de policía, y las imágenes a la salida de cada canal son las siguientes, resuelva:\n",
    "\n",
    "a) Implementar un algoritmo que calcule la matriz de transición que describe cada canal. \n",
    "B) Implementar un algoritmo que calcule el ruido de cada canal utilizando muestreo computacional. Generar un gráfico que permita estudiar la evolución del error y la convergencia.\n"
   ]
  },
  {
   "cell_type": "code",
   "execution_count": 20,
   "metadata": {},
   "outputs": [],
   "source": [
    "def matriz_transicion(imagen1, imagen2):    \n",
    "    matriz_transicion =  {}\n",
    "    total = len(imagen1)*len(imagen1[0])\n",
    "    for i in range(len(imagen1)):\n",
    "        for j in range(len(imagen1[i])):\n",
    "            entrada = imagen1[i][j] \n",
    "            if entrada in matriz_transicion:\n",
    "                mapa_salida = matriz_transicion[entrada]\n",
    "                salida = imagen2[i][j]\n",
    "                if salida in mapa_salida:\n",
    "                    mapa_salida[salida] += 1.00/total\n",
    "                else:\n",
    "                    mapa_salida[salida] = 1.00/total\n",
    "            else:\n",
    "                matriz_transicion[entrada] = { imagen2[i][j]:1.00/total}\n",
    "                \n",
    "    \n",
    "    return matriz_transicion\n",
    "\n",
    "matrices_transicion = []\n",
    "for i in range(7,9):\n",
    "    #En la segunda posicion se guarda el factor de correlacion cruzada para posteriormente ordenarlo\n",
    "    imagen_canal = imageio.imread(os.path.join(\"img\",filenames[i]))\n",
    "    matriz = matriz_transicion(will_original, imagen_canal)\n",
    "    matrices_transicion.append(matriz)  \n"
   ]
  },
  {
   "cell_type": "code",
   "execution_count": 19,
   "metadata": {},
   "outputs": [
    {
     "name": "stdout",
     "output_type": "stream",
     "text": [
      "0.999999999999842\n"
     ]
    }
   ],
   "source": []
  }
 ],
 "metadata": {
  "colab": {
   "collapsed_sections": [],
   "name": "TPE-TeoInfo.ipynb",
   "provenance": []
  },
  "kernelspec": {
   "display_name": "Python 3",
   "language": "python",
   "name": "python3"
  },
  "language_info": {
   "codemirror_mode": {
    "name": "ipython",
    "version": 3
   },
   "file_extension": ".py",
   "mimetype": "text/x-python",
   "name": "python",
   "nbconvert_exporter": "python",
   "pygments_lexer": "ipython3",
   "version": "3.6.9"
  }
 },
 "nbformat": 4,
 "nbformat_minor": 1
}
